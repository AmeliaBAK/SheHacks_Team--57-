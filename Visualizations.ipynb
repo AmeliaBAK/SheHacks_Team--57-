{
  "nbformat": 4,
  "nbformat_minor": 0,
  "metadata": {
    "colab": {
      "name": "Visualizations.ipynb",
      "provenance": [],
      "collapsed_sections": [],
      "include_colab_link": true
    },
    "kernelspec": {
      "name": "python3",
      "display_name": "Python 3"
    }
  },
  "cells": [
    {
      "cell_type": "markdown",
      "metadata": {
        "id": "view-in-github",
        "colab_type": "text"
      },
      "source": [
        "<a href=\"https://colab.research.google.com/github/AmeliaBAK/SheHacks_Team--57-/blob/main/Visualizations.ipynb\" target=\"_parent\"><img src=\"https://colab.research.google.com/assets/colab-badge.svg\" alt=\"Open In Colab\"/></a>"
      ]
    },
    {
      "cell_type": "markdown",
      "metadata": {
        "id": "20ZTMLlFqAN0"
      },
      "source": [
        "# VISUALIZATIONS"
      ]
    },
    {
      "cell_type": "code",
      "metadata": {
        "id": "8SxErm1Oa2Y7",
        "colab": {
          "base_uri": "https://localhost:8080/"
        },
        "outputId": "51938665-a73b-4855-bec8-923dafd04d95"
      },
      "source": [
        "!pip install flask-ngrok"
      ],
      "execution_count": null,
      "outputs": [
        {
          "output_type": "stream",
          "text": [
            "Collecting flask-ngrok\n",
            "  Downloading https://files.pythonhosted.org/packages/af/6c/f54cb686ad1129e27d125d182f90f52b32f284e6c8df58c1bae54fa1adbc/flask_ngrok-0.0.25-py3-none-any.whl\n",
            "Requirement already satisfied: Flask>=0.8 in /usr/local/lib/python3.7/dist-packages (from flask-ngrok) (1.1.2)\n",
            "Requirement already satisfied: requests in /usr/local/lib/python3.7/dist-packages (from flask-ngrok) (2.23.0)\n",
            "Requirement already satisfied: itsdangerous>=0.24 in /usr/local/lib/python3.7/dist-packages (from Flask>=0.8->flask-ngrok) (1.1.0)\n",
            "Requirement already satisfied: Werkzeug>=0.15 in /usr/local/lib/python3.7/dist-packages (from Flask>=0.8->flask-ngrok) (1.0.1)\n",
            "Requirement already satisfied: Jinja2>=2.10.1 in /usr/local/lib/python3.7/dist-packages (from Flask>=0.8->flask-ngrok) (2.11.3)\n",
            "Requirement already satisfied: click>=5.1 in /usr/local/lib/python3.7/dist-packages (from Flask>=0.8->flask-ngrok) (7.1.2)\n",
            "Requirement already satisfied: urllib3!=1.25.0,!=1.25.1,<1.26,>=1.21.1 in /usr/local/lib/python3.7/dist-packages (from requests->flask-ngrok) (1.24.3)\n",
            "Requirement already satisfied: idna<3,>=2.5 in /usr/local/lib/python3.7/dist-packages (from requests->flask-ngrok) (2.10)\n",
            "Requirement already satisfied: certifi>=2017.4.17 in /usr/local/lib/python3.7/dist-packages (from requests->flask-ngrok) (2020.12.5)\n",
            "Requirement already satisfied: chardet<4,>=3.0.2 in /usr/local/lib/python3.7/dist-packages (from requests->flask-ngrok) (3.0.4)\n",
            "Requirement already satisfied: MarkupSafe>=0.23 in /usr/local/lib/python3.7/dist-packages (from Jinja2>=2.10.1->Flask>=0.8->flask-ngrok) (1.1.1)\n",
            "Installing collected packages: flask-ngrok\n",
            "Successfully installed flask-ngrok-0.0.25\n"
          ],
          "name": "stdout"
        }
      ]
    },
    {
      "cell_type": "code",
      "metadata": {
        "colab": {
          "base_uri": "https://localhost:8080/"
        },
        "id": "AOd_diTufqUs",
        "outputId": "bfbcddfa-4498-4336-d99e-89c38832c408"
      },
      "source": [
        "\r\n",
        "from flask import Flask \r\n",
        "from flask_ngrok import run_with_ngrok \r\n",
        "app = Flask(__name__) \r\n",
        "run_with_ngrok(app)    \r\n",
        "  \r\n",
        "@app.route(\"/\") \r\n",
        "def home(): \r\n",
        "    return \"<h1>Welcome to LearnPal!</h1>\"    \r\n",
        "    \r\n",
        "@app.route(\"/login\") \r\n",
        "def login():\r\n",
        "  return \"<h2>Please login:</h2>\"\r\n",
        "\r\n",
        "@app.route(\"/schedule\")\r\n",
        "def schedule():\r\n",
        "  return \"<h3>Today's schedule:</h3>\"\r\n",
        "    \r\n",
        "app.run()"
      ],
      "execution_count": null,
      "outputs": [
        {
          "output_type": "stream",
          "text": [
            " * Serving Flask app \"__main__\" (lazy loading)\n",
            " * Environment: production\n",
            "\u001b[31m   WARNING: This is a development server. Do not use it in a production deployment.\u001b[0m\n",
            "\u001b[2m   Use a production WSGI server instead.\u001b[0m\n",
            " * Debug mode: off\n"
          ],
          "name": "stdout"
        },
        {
          "output_type": "stream",
          "text": [
            " * Running on http://127.0.0.1:5000/ (Press CTRL+C to quit)\n"
          ],
          "name": "stderr"
        },
        {
          "output_type": "stream",
          "text": [
            " * Running on http://5ca9af86bc95.ngrok.io\n",
            " * Traffic stats available on http://127.0.0.1:4040\n"
          ],
          "name": "stdout"
        }
      ]
    },
    {
      "cell_type": "code",
      "metadata": {
        "id": "QTMK_NYYrQTO"
      },
      "source": [
        "from lxml import html\r\n",
        "import requests\r\n",
        "import numpy as np"
      ],
      "execution_count": null,
      "outputs": []
    },
    {
      "cell_type": "code",
      "metadata": {
        "id": "pZcum27S7_Mm"
      },
      "source": [
        " pip install colabcode"
      ],
      "execution_count": null,
      "outputs": []
    },
    {
      "cell_type": "code",
      "metadata": {
        "id": "k_uURsHK8CXk"
      },
      "source": [
        "from colabcode import ColabCode\r\n",
        "ColabCode()"
      ],
      "execution_count": null,
      "outputs": []
    },
    {
      "cell_type": "code",
      "metadata": {
        "id": "wWoGOBp88N-c"
      },
      "source": [
        "!curl -fsSL https://code-server.dev/install.sh | sh"
      ],
      "execution_count": null,
      "outputs": []
    },
    {
      "cell_type": "code",
      "metadata": {
        "id": "xAhbyU258ZhL"
      },
      "source": [
        " !pip install -qqq pyngrok"
      ],
      "execution_count": null,
      "outputs": []
    },
    {
      "cell_type": "code",
      "metadata": {
        "id": "htloQkoK8boO"
      },
      "source": [
        "from pyngrok import ngrok\r\n",
        " url = ngrok.connect(port=9000)\r\n",
        " print(url)"
      ],
      "execution_count": null,
      "outputs": []
    },
    {
      "cell_type": "code",
      "metadata": {
        "id": "FKoRVnuL8ftH"
      },
      "source": [
        " !nohup code-server --port 9000 --auth none &"
      ],
      "execution_count": null,
      "outputs": []
    },
    {
      "cell_type": "code",
      "metadata": {
        "id": "Ib3LYScV8i_P"
      },
      "source": [
        "import pandas as pd\r\n"
      ],
      "execution_count": null,
      "outputs": []
    },
    {
      "cell_type": "code",
      "metadata": {
        "colab": {
          "base_uri": "https://localhost:8080/"
        },
        "id": "rBiBRSx5akdZ",
        "outputId": "62dfc9f8-a9d6-43c5-d543-f5f443c5e83e"
      },
      "source": [
        "from google.colab import drive\r\n",
        "drive.mount(\"/content/student\")"
      ],
      "execution_count": null,
      "outputs": [
        {
          "output_type": "stream",
          "text": [
            "Drive already mounted at /content/student; to attempt to forcibly remount, call drive.mount(\"/content/student\", force_remount=True).\n"
          ],
          "name": "stdout"
        }
      ]
    },
    {
      "cell_type": "code",
      "metadata": {
        "id": "GkCfuTGJa_U-",
        "colab": {
          "base_uri": "https://localhost:8080/",
          "height": 419
        },
        "outputId": "1e78d945-7c62-4ee0-8ecd-f04a6bac5ba5"
      },
      "source": [
        "df = pd.read_excel(\"/content/student/MyDrive/Copy of student.xlsx\")\r\n",
        "df"
      ],
      "execution_count": null,
      "outputs": [
        {
          "output_type": "execute_result",
          "data": {
            "text/html": [
              "<div>\n",
              "<style scoped>\n",
              "    .dataframe tbody tr th:only-of-type {\n",
              "        vertical-align: middle;\n",
              "    }\n",
              "\n",
              "    .dataframe tbody tr th {\n",
              "        vertical-align: top;\n",
              "    }\n",
              "\n",
              "    .dataframe thead th {\n",
              "        text-align: right;\n",
              "    }\n",
              "</style>\n",
              "<table border=\"1\" class=\"dataframe\">\n",
              "  <thead>\n",
              "    <tr style=\"text-align: right;\">\n",
              "      <th></th>\n",
              "      <th>Roll_number</th>\n",
              "      <th>Student_name</th>\n",
              "      <th>SUBJECT</th>\n",
              "      <th>marks</th>\n",
              "      <th>attd</th>\n",
              "    </tr>\n",
              "  </thead>\n",
              "  <tbody>\n",
              "    <tr>\n",
              "      <th>0</th>\n",
              "      <td>1901</td>\n",
              "      <td>Aadhya</td>\n",
              "      <td>LA</td>\n",
              "      <td>90</td>\n",
              "      <td>67</td>\n",
              "    </tr>\n",
              "    <tr>\n",
              "      <th>1</th>\n",
              "      <td>1908</td>\n",
              "      <td>Annie</td>\n",
              "      <td>LA</td>\n",
              "      <td>80</td>\n",
              "      <td>90</td>\n",
              "    </tr>\n",
              "    <tr>\n",
              "      <th>2</th>\n",
              "      <td>1909</td>\n",
              "      <td>Ana</td>\n",
              "      <td>LA</td>\n",
              "      <td>88</td>\n",
              "      <td>89</td>\n",
              "    </tr>\n",
              "    <tr>\n",
              "      <th>3</th>\n",
              "      <td>1916</td>\n",
              "      <td>Ashley</td>\n",
              "      <td>LA</td>\n",
              "      <td>92</td>\n",
              "      <td>77</td>\n",
              "    </tr>\n",
              "    <tr>\n",
              "      <th>4</th>\n",
              "      <td>1923</td>\n",
              "      <td>Ariana</td>\n",
              "      <td>LA</td>\n",
              "      <td>94</td>\n",
              "      <td>87</td>\n",
              "    </tr>\n",
              "    <tr>\n",
              "      <th>...</th>\n",
              "      <td>...</td>\n",
              "      <td>...</td>\n",
              "      <td>...</td>\n",
              "      <td>...</td>\n",
              "      <td>...</td>\n",
              "    </tr>\n",
              "    <tr>\n",
              "      <th>85</th>\n",
              "      <td>1989</td>\n",
              "      <td>Olivia</td>\n",
              "      <td>AS</td>\n",
              "      <td>93</td>\n",
              "      <td>74</td>\n",
              "    </tr>\n",
              "    <tr>\n",
              "      <th>86</th>\n",
              "      <td>1992</td>\n",
              "      <td>Park</td>\n",
              "      <td>AS</td>\n",
              "      <td>87</td>\n",
              "      <td>76</td>\n",
              "    </tr>\n",
              "    <tr>\n",
              "      <th>87</th>\n",
              "      <td>1994</td>\n",
              "      <td>Rayona</td>\n",
              "      <td>AS</td>\n",
              "      <td>77</td>\n",
              "      <td>79</td>\n",
              "    </tr>\n",
              "    <tr>\n",
              "      <th>88</th>\n",
              "      <td>1997</td>\n",
              "      <td>Sarah</td>\n",
              "      <td>AS</td>\n",
              "      <td>56</td>\n",
              "      <td>80</td>\n",
              "    </tr>\n",
              "    <tr>\n",
              "      <th>89</th>\n",
              "      <td>1999</td>\n",
              "      <td>Tara</td>\n",
              "      <td>AS</td>\n",
              "      <td>42</td>\n",
              "      <td>84</td>\n",
              "    </tr>\n",
              "  </tbody>\n",
              "</table>\n",
              "<p>90 rows × 5 columns</p>\n",
              "</div>"
            ],
            "text/plain": [
              "    Roll_number Student_name SUBJECT  marks  attd\n",
              "0          1901       Aadhya      LA     90    67\n",
              "1          1908        Annie      LA     80    90\n",
              "2          1909          Ana      LA     88    89\n",
              "3          1916       Ashley      LA     92    77\n",
              "4          1923       Ariana      LA     94    87\n",
              "..          ...          ...     ...    ...   ...\n",
              "85         1989       Olivia      AS     93    74\n",
              "86         1992         Park      AS     87    76\n",
              "87         1994       Rayona      AS     77    79\n",
              "88         1997        Sarah      AS     56    80\n",
              "89         1999         Tara      AS     42    84\n",
              "\n",
              "[90 rows x 5 columns]"
            ]
          },
          "metadata": {
            "tags": []
          },
          "execution_count": 77
        }
      ]
    },
    {
      "cell_type": "code",
      "metadata": {
        "id": "Uf_U0HYKUAGt"
      },
      "source": [
        "import matplotlib.pyplot as plt\r\n",
        "fig = plt.figure()\r\n",
        "ax = fig.add_axes([0,0,1,1])\r\n",
        "plt.title(\"MARKS VERSUS ATTENDANCE\")\r\n",
        "ax.set_xlabel('Marks') \r\n",
        "ax.bar(df['marks'],df['attd'])\r\n",
        "ax.set_ylabel('Attendance')\r\n",
        "plt.show()"
      ],
      "execution_count": null,
      "outputs": []
    },
    {
      "cell_type": "code",
      "metadata": {
        "colab": {
          "base_uri": "https://localhost:8080/",
          "height": 383
        },
        "id": "VQrhH8K1t5am",
        "outputId": "b7df0d94-6bc9-4c43-8dbc-07a36ba32313"
      },
      "source": [
        "roll_no = int(input(\"Enter your Roll number : \"))\r\n",
        "for i in df.Roll_number:\r\n",
        "    if i == roll_no:\r\n",
        "      fig = plt.figure()\r\n",
        "      ax = fig.add_axes([0,0,1,1])\r\n",
        "      ax.bar(df['SUBJECT'], df['marks'])\r\n",
        "      plt.title(\"SUBJECT VERSUS MARKS\")\r\n",
        "      ax.set_xlabel('SUBJECT') \r\n",
        "      ax.set_ylabel('MARKS')   \r\n",
        "      break\r\n"
      ],
      "execution_count": null,
      "outputs": [
        {
          "output_type": "stream",
          "text": [
            "Enter your Roll number : 1909\n"
          ],
          "name": "stdout"
        },
        {
          "output_type": "display_data",
          "data": {
            "image/png": "[encoded data removed]",
            "text/plain": [
              "<Figure size 432x288 with 1 Axes>"
            ]
          },
          "metadata": {
            "tags": [],
            "needs_background": "light"
          }
        }
      ]
    },
    {
      "cell_type": "code",
      "metadata": {
        "colab": {
          "base_uri": "https://localhost:8080/",
          "height": 366
        },
        "id": "C6HfU4fLu8zj",
        "outputId": "ff6cea7e-687b-4ab1-865c-f489f0d1c1e1"
      },
      "source": [
        "for i in df.Roll_number:\r\n",
        "    if i == roll_no:\r\n",
        "      fig = plt.figure()\r\n",
        "      ax = fig.add_axes([0,0,1,1])\r\n",
        "      ax.bar(df['SUBJECT'], df['attd'])\r\n",
        "      plt.title(\"SUBJECT VERSUS ATTENDANCE\")\r\n",
        "      ax.set_xlabel('SUBJECT') \r\n",
        "      ax.set_ylabel('ATTENDANCE')   \r\n",
        "      break\r\n"
      ],
      "execution_count": null,
      "outputs": [
        {
          "output_type": "display_data",
          "data": {
            "image/png": "[encoded data removed]",
            "text/plain": [
              "<Figure size 432x288 with 1 Axes>"
            ]
          },
          "metadata": {
            "tags": [],
            "needs_background": "light"
          }
        }
      ]
    },
    {
      "cell_type": "code",
      "metadata": {
        "id": "rD9DdbkOxLJ7"
      },
      "source": [
        "Sub = {}\r\n",
        "for sub in df.SUBJECT:\r\n",
        "  grouped = df.groupby(df.SUBJECT)\r\n",
        "  Sub[sub] = grouped.get_group(sub) \r\n",
        "print(Sub['GT'])"
      ],
      "execution_count": null,
      "outputs": []
    },
    {
      "cell_type": "code",
      "metadata": {
        "colab": {
          "base_uri": "https://localhost:8080/",
          "height": 607
        },
        "id": "i8wrDB11zRZr",
        "outputId": "f53f8b00-c1d9-42aa-ce82-d9c7b7083f6c"
      },
      "source": [
        "df_gt = Sub['GT'].drop(['Roll_number', 'attd'], axis = 1)\r\n",
        "df_gt"
      ],
      "execution_count": null,
      "outputs": [
        {
          "output_type": "execute_result",
          "data": {
            "text/html": [
              "<div>\n",
              "<style scoped>\n",
              "    .dataframe tbody tr th:only-of-type {\n",
              "        vertical-align: middle;\n",
              "    }\n",
              "\n",
              "    .dataframe tbody tr th {\n",
              "        vertical-align: top;\n",
              "    }\n",
              "\n",
              "    .dataframe thead th {\n",
              "        text-align: right;\n",
              "    }\n",
              "</style>\n",
              "<table border=\"1\" class=\"dataframe\">\n",
              "  <thead>\n",
              "    <tr style=\"text-align: right;\">\n",
              "      <th></th>\n",
              "      <th>Student_name</th>\n",
              "      <th>SUBJECT</th>\n",
              "      <th>marks</th>\n",
              "    </tr>\n",
              "  </thead>\n",
              "  <tbody>\n",
              "    <tr>\n",
              "      <th>18</th>\n",
              "      <td>Aadhya</td>\n",
              "      <td>GT</td>\n",
              "      <td>82</td>\n",
              "    </tr>\n",
              "    <tr>\n",
              "      <th>19</th>\n",
              "      <td>Annie</td>\n",
              "      <td>GT</td>\n",
              "      <td>70</td>\n",
              "    </tr>\n",
              "    <tr>\n",
              "      <th>20</th>\n",
              "      <td>Ana</td>\n",
              "      <td>GT</td>\n",
              "      <td>89</td>\n",
              "    </tr>\n",
              "    <tr>\n",
              "      <th>21</th>\n",
              "      <td>Ashley</td>\n",
              "      <td>GT</td>\n",
              "      <td>78</td>\n",
              "    </tr>\n",
              "    <tr>\n",
              "      <th>22</th>\n",
              "      <td>Ariana</td>\n",
              "      <td>GT</td>\n",
              "      <td>89</td>\n",
              "    </tr>\n",
              "    <tr>\n",
              "      <th>23</th>\n",
              "      <td>Boyle</td>\n",
              "      <td>GT</td>\n",
              "      <td>86</td>\n",
              "    </tr>\n",
              "    <tr>\n",
              "      <th>24</th>\n",
              "      <td>Casey</td>\n",
              "      <td>GT</td>\n",
              "      <td>90</td>\n",
              "    </tr>\n",
              "    <tr>\n",
              "      <th>25</th>\n",
              "      <td>Dave</td>\n",
              "      <td>GT</td>\n",
              "      <td>88</td>\n",
              "    </tr>\n",
              "    <tr>\n",
              "      <th>26</th>\n",
              "      <td>Gina</td>\n",
              "      <td>GT</td>\n",
              "      <td>78</td>\n",
              "    </tr>\n",
              "    <tr>\n",
              "      <th>27</th>\n",
              "      <td>Hina</td>\n",
              "      <td>GT</td>\n",
              "      <td>89</td>\n",
              "    </tr>\n",
              "    <tr>\n",
              "      <th>28</th>\n",
              "      <td>Isha</td>\n",
              "      <td>GT</td>\n",
              "      <td>99</td>\n",
              "    </tr>\n",
              "    <tr>\n",
              "      <th>29</th>\n",
              "      <td>Janice</td>\n",
              "      <td>GT</td>\n",
              "      <td>78</td>\n",
              "    </tr>\n",
              "    <tr>\n",
              "      <th>30</th>\n",
              "      <td>Nancy</td>\n",
              "      <td>GT</td>\n",
              "      <td>80</td>\n",
              "    </tr>\n",
              "    <tr>\n",
              "      <th>31</th>\n",
              "      <td>Olivia</td>\n",
              "      <td>GT</td>\n",
              "      <td>57</td>\n",
              "    </tr>\n",
              "    <tr>\n",
              "      <th>32</th>\n",
              "      <td>Park</td>\n",
              "      <td>GT</td>\n",
              "      <td>62</td>\n",
              "    </tr>\n",
              "    <tr>\n",
              "      <th>33</th>\n",
              "      <td>Rayona</td>\n",
              "      <td>GT</td>\n",
              "      <td>70</td>\n",
              "    </tr>\n",
              "    <tr>\n",
              "      <th>34</th>\n",
              "      <td>Sarah</td>\n",
              "      <td>GT</td>\n",
              "      <td>81</td>\n",
              "    </tr>\n",
              "    <tr>\n",
              "      <th>35</th>\n",
              "      <td>Tara</td>\n",
              "      <td>GT</td>\n",
              "      <td>66</td>\n",
              "    </tr>\n",
              "  </tbody>\n",
              "</table>\n",
              "</div>"
            ],
            "text/plain": [
              "   Student_name SUBJECT  marks\n",
              "18       Aadhya      GT     82\n",
              "19        Annie      GT     70\n",
              "20          Ana      GT     89\n",
              "21       Ashley      GT     78\n",
              "22       Ariana      GT     89\n",
              "23        Boyle      GT     86\n",
              "24        Casey      GT     90\n",
              "25         Dave      GT     88\n",
              "26         Gina      GT     78\n",
              "27         Hina      GT     89\n",
              "28         Isha      GT     99\n",
              "29       Janice      GT     78\n",
              "30        Nancy      GT     80\n",
              "31       Olivia      GT     57\n",
              "32         Park      GT     62\n",
              "33       Rayona      GT     70\n",
              "34        Sarah      GT     81\n",
              "35         Tara      GT     66"
            ]
          },
          "metadata": {
            "tags": []
          },
          "execution_count": 105
        }
      ]
    },
    {
      "cell_type": "code",
      "metadata": {
        "colab": {
          "base_uri": "https://localhost:8080/"
        },
        "id": "1N8abg-jzFiN",
        "outputId": "22b8451a-dde0-4d6a-8781-0ac5dc1c88a3"
      },
      "source": [
        "df_gt.mean()"
      ],
      "execution_count": null,
      "outputs": [
        {
          "output_type": "execute_result",
          "data": {
            "text/plain": [
              "marks    79.555556\n",
              "dtype: float64"
            ]
          },
          "metadata": {
            "tags": []
          },
          "execution_count": 106
        }
      ]
    },
    {
      "cell_type": "code",
      "metadata": {
        "colab": {
          "base_uri": "https://localhost:8080/"
        },
        "id": "Wl2GdHBV0CyI",
        "outputId": "4565ef33-46bd-4be2-c0f8-1c7809203254"
      },
      "source": [
        "df_la = Sub['LA'].drop(['Roll_number', 'attd'], axis = 1)\r\n",
        "df_la.mean()\r\n"
      ],
      "execution_count": null,
      "outputs": [
        {
          "output_type": "execute_result",
          "data": {
            "text/plain": [
              "marks    72.944444\n",
              "dtype: float64"
            ]
          },
          "metadata": {
            "tags": []
          },
          "execution_count": 112
        }
      ]
    },
    {
      "cell_type": "code",
      "metadata": {
        "colab": {
          "base_uri": "https://localhost:8080/"
        },
        "id": "21zJSTBm0oL_",
        "outputId": "c2d5c59d-ecf2-46b8-aaf4-38030dd80378"
      },
      "source": [
        "df_as = Sub['AS'].drop(['Roll_number', 'attd'], axis = 1)\r\n",
        "df_as.mean()\r\n"
      ],
      "execution_count": null,
      "outputs": [
        {
          "output_type": "execute_result",
          "data": {
            "text/plain": [
              "marks    72.944444\n",
              "dtype: float64"
            ]
          },
          "metadata": {
            "tags": []
          },
          "execution_count": 113
        }
      ]
    },
    {
      "cell_type": "code",
      "metadata": {
        "colab": {
          "base_uri": "https://localhost:8080/"
        },
        "id": "nLAFkrAG0lSj",
        "outputId": "56038e67-30d6-4974-bab1-8d07e4e47c58"
      },
      "source": [
        "df_ds = Sub['DS'].drop(['Roll_number', 'attd'], axis = 1)\r\n",
        "df_ds.mean()\r\n"
      ],
      "execution_count": null,
      "outputs": [
        {
          "output_type": "execute_result",
          "data": {
            "text/plain": [
              "marks    78.722222\n",
              "dtype: float64"
            ]
          },
          "metadata": {
            "tags": []
          },
          "execution_count": 111
        }
      ]
    },
    {
      "cell_type": "code",
      "metadata": {
        "colab": {
          "base_uri": "https://localhost:8080/"
        },
        "id": "XPFm33qQ0iTt",
        "outputId": "1e9343c4-bf4d-40e2-870e-cb497298c99c"
      },
      "source": [
        "df_de = Sub['DE'].drop(['Roll_number', 'attd'], axis = 1)\r\n",
        "df_de.mean()\r\n"
      ],
      "execution_count": null,
      "outputs": [
        {
          "output_type": "execute_result",
          "data": {
            "text/plain": [
              "marks    75.166667\n",
              "dtype: float64"
            ]
          },
          "metadata": {
            "tags": []
          },
          "execution_count": 110
        }
      ]
    },
    {
      "cell_type": "code",
      "metadata": {
        "colab": {
          "base_uri": "https://localhost:8080/"
        },
        "id": "o2fNitPC0qwT",
        "outputId": "adfc479b-cde4-4a1d-951a-dc8555598112"
      },
      "source": [
        "df1 = {'SUBJECT':['LA', 'GT', 'DE', 'AS', 'DS'],'MEAN':[df_la.mean(), df_gt.mean(), df_de.mean(), df_as.mean(), df_ds.mean()]}\r\n",
        "df_mean = pd.DataFrame(df1, columns = ['SUBJECT', 'MEAN'])\r\n",
        "df2 = pd.concat([df_mean, df])\r\n",
        "print(df2)\r\n"
      ],
      "execution_count": null,
      "outputs": [
        {
          "output_type": "stream",
          "text": [
            "   SUBJECT                               MEAN  ...  marks  attd\n",
            "0       LA  marks    78.111111\n",
            "dtype: float64  ...    NaN   NaN\n",
            "1       GT  marks    79.555556\n",
            "dtype: float64  ...    NaN   NaN\n",
            "2       DE  marks    75.166667\n",
            "dtype: float64  ...    NaN   NaN\n",
            "3       AS  marks    72.944444\n",
            "dtype: float64  ...    NaN   NaN\n",
            "4       DS  marks    78.722222\n",
            "dtype: float64  ...    NaN   NaN\n",
            "..     ...                                ...  ...    ...   ...\n",
            "85      AS                                NaN  ...   93.0  74.0\n",
            "86      AS                                NaN  ...   87.0  76.0\n",
            "87      AS                                NaN  ...   77.0  79.0\n",
            "88      AS                                NaN  ...   56.0  80.0\n",
            "89      AS                                NaN  ...   42.0  84.0\n",
            "\n",
            "[95 rows x 6 columns]\n"
          ],
          "name": "stdout"
        }
      ]
    },
    {
      "cell_type": "code",
      "metadata": {
        "colab": {
          "base_uri": "https://localhost:8080/",
          "height": 437
        },
        "id": "CmL7_4jF44PK",
        "outputId": "be050cfe-f538-46de-96ca-2085e335588d"
      },
      "source": [
        "fig = plt.figure()\r\n",
        "ax = fig.add_axes([0,0,1,1])\r\n",
        "ax.bar(df2['SUBJECT'], df2['MEAN'])\r\n",
        "plt.title(\"SUBJECT VERSUS MEAN\")\r\n",
        "ax.set_xlabel('SUBJECT') \r\n",
        "ax.set_ylabel('MEAN')   \r\n",
        "\r\n"
      ],
      "execution_count": null,
      "outputs": [
        {
          "output_type": "stream",
          "text": [
            "/usr/local/lib/python3.7/dist-packages/numpy/lib/stride_tricks.py:256: VisibleDeprecationWarning: Creating an ndarray from ragged nested sequences (which is a list-or-tuple of lists-or-tuples-or ndarrays with different lengths or shapes) is deprecated. If you meant to do this, you must specify 'dtype=object' when creating the ndarray\n",
            "  args = [np.array(_m, copy=False, subok=subok) for _m in args]\n"
          ],
          "name": "stderr"
        },
        {
          "output_type": "execute_result",
          "data": {
            "text/plain": [
              "Text(0, 0.5, 'MEAN')"
            ]
          },
          "metadata": {
            "tags": []
          },
          "execution_count": 129
        },
        {
          "output_type": "display_data",
          "data": {
            "image/png": "[encoded data removed]",
            "text/plain": [
              "<Figure size 432x288 with 1 Axes>"
            ]
          },
          "metadata": {
            "tags": [],
            "needs_background": "light"
          }
        }
      ]
    }
  ]
}