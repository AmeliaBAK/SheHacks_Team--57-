{
  "nbformat": 4,
  "nbformat_minor": 0,
  "metadata": {
    "colab": {
      "name": "Chatbot1.ipynb",
      "provenance": [],
      "collapsed_sections": [],
      "include_colab_link": true
    },
    "kernelspec": {
      "name": "python3",
      "display_name": "Python 3"
    }
  },
  "cells": [
    {
      "cell_type": "markdown",
      "metadata": {
        "id": "view-in-github",
        "colab_type": "text"
      },
      "source": [
        "<a href=\"https://colab.research.google.com/github/AmeliaBAK/SheHacks_Team--57-/blob/main/Chatbot1.ipynb\" target=\"_parent\"><img src=\"https://colab.research.google.com/assets/colab-badge.svg\" alt=\"Open In Colab\"/></a>"
      ]
    },
    {
      "cell_type": "markdown",
      "metadata": {
        "id": "XzJi91-6nRFd"
      },
      "source": [
        "# CHATBOT\r\n"
      ]
    },
    {
      "cell_type": "code",
      "metadata": {
        "colab": {
          "base_uri": "https://localhost:8080/"
        },
        "id": "TyjV-nQqjNHS",
        "outputId": "6174fc02-53d5-4ca1-b25f-f01cf9b2b4da"
      },
      "source": [
        "!pip install chatterbot\r\n",
        "!pip install chatterbot_corpus"
      ],
      "execution_count": null,
      "outputs": [
        {
          "output_type": "stream",
          "text": [
            "Collecting chatterbot\n",
            "\u001b[?25l  Downloading https://files.pythonhosted.org/packages/7c/21/85c2b114bd9dfabdd46ba58fc4519acdaed45d8c70898d40079e37a45e67/ChatterBot-1.0.8-py2.py3-none-any.whl (63kB)\n",
            "\r\u001b[K     |█████▏                          | 10kB 21.0MB/s eta 0:00:01\r\u001b[K     |██████████▎                     | 20kB 18.0MB/s eta 0:00:01\r\u001b[K     |███████████████▌                | 30kB 11.1MB/s eta 0:00:01\r\u001b[K     |████████████████████▋           | 40kB 9.3MB/s eta 0:00:01\r\u001b[K     |█████████████████████████▊      | 51kB 7.8MB/s eta 0:00:01\r\u001b[K     |███████████████████████████████ | 61kB 8.3MB/s eta 0:00:01\r\u001b[K     |████████████████████████████████| 71kB 5.7MB/s \n",
            "\u001b[?25hRequirement already satisfied: sqlalchemy<1.4,>=1.3 in /usr/local/lib/python3.7/dist-packages (from chatterbot) (1.3.23)\n",
            "Requirement already satisfied: pytz in /usr/local/lib/python3.7/dist-packages (from chatterbot) (2018.9)\n",
            "Requirement already satisfied: python-dateutil<2.9,>=2.8 in /usr/local/lib/python3.7/dist-packages (from chatterbot) (2.8.1)\n",
            "Collecting mathparse<0.2,>=0.1\n",
            "  Downloading https://files.pythonhosted.org/packages/c3/e5/4910fb85950cb960fcf3f5aabe1c8e55f5c9201788a1c1302b570a7e1f84/mathparse-0.1.2-py3-none-any.whl\n",
            "Requirement already satisfied: six>=1.5 in /usr/local/lib/python3.7/dist-packages (from python-dateutil<2.9,>=2.8->chatterbot) (1.15.0)\n",
            "Installing collected packages: mathparse, chatterbot\n",
            "Successfully installed chatterbot-1.0.8 mathparse-0.1.2\n",
            "Collecting chatterbot_corpus\n",
            "\u001b[?25l  Downloading https://files.pythonhosted.org/packages/ed/19/f8b41daf36fe4b0f43e283a820362ffdb2c1128600ab4ee187e84262fa4d/chatterbot_corpus-1.2.0-py2.py3-none-any.whl (117kB)\n",
            "\u001b[K     |████████████████████████████████| 122kB 7.9MB/s \n",
            "\u001b[?25hRequirement already satisfied: PyYAML<4.0,>=3.12 in /usr/local/lib/python3.7/dist-packages (from chatterbot_corpus) (3.13)\n",
            "Installing collected packages: chatterbot-corpus\n",
            "Successfully installed chatterbot-corpus-1.2.0\n"
          ],
          "name": "stdout"
        }
      ]
    },
    {
      "cell_type": "code",
      "metadata": {
        "id": "JPxfE_UOm7bF"
      },
      "source": [
        "from chatterbot import ChatBot\r\n",
        "from chatterbot.trainers import ListTrainer"
      ],
      "execution_count": null,
      "outputs": []
    },
    {
      "cell_type": "code",
      "metadata": {
        "id": "iaIzc6H3nW7E"
      },
      "source": [
        "my_bot = ChatBot(name='FirstBot', read_only = True, logic_adapters = ['chatterbot.logic.MathematicalEvaluation','chatterbot.logic.BestMatch'])"
      ],
      "execution_count": null,
      "outputs": []
    },
    {
      "cell_type": "code",
      "metadata": {
        "id": "lffQfK7foSn6"
      },
      "source": [
        "intro_talk = ['Hi there!',\r\n",
        "              'Hi',\r\n",
        "              'How do you do?',\r\n",
        "              'How are you',\r\n",
        "              'I\\'m fine',\r\n",
        "              'Fine, you?',\r\n",
        "              'Always cool.',\r\n",
        "              'I\\'m ok',\r\n",
        "              'Glad to hear that',\r\n",
        "              'I feel awesome',\r\n",
        "              'Excellent, glad to hear that.',\r\n",
        "              'Not so good,',\r\n",
        "              'Sorry to hear that.',\r\n",
        "              'Linear Algebra',\r\n",
        "              'https://www.desmos.com/calculator',\r\n",
        "              'What\\'s your name?',\r\n",
        "              'I\\'m FirstBot. Ask me a question...']\r\n",
        "                                     \r\n",
        "\r\n",
        "linear_algebra_doubts = ['Linear Algebra','Linear algebra is the branch of mathematics concerning linear equations such as: linear maps such as: and their representations in vector spaces and through matrices. Linear algebra is central to almost all areas of mathematics.',\r\n",
        "                         'Books','https://archive.org/details/ElementryLinearAlgebraByHowardAnton10thEdition/page/n3/mode/2up',\r\n",
        "                         'VS,vector space','https://mathworld.wolfram.com/VectorSpace.html',\r\n",
        "                         'vector','http://www.math.niu.edu/~beachy/courses/240/06spring/vectorspace.html',\r\n",
        "                         'row space','http://www.math.niu.edu/~beachy/courses/240/06spring/vectorspace.html',\r\n",
        "                         'column space','https://towardsdatascience.com/what-is-column-space-with-a-machine-learning-example-8f8a8d4ec6c',\r\n",
        "                         'rank','https://www.cliffsnotes.com/study-guides/algebra/linear-algebra/real-euclidean-vector-spaces/the-rank-of-a-matrix',\r\n",
        "                         'dimension','https://www.khanacademy.org/math/precalculus/x9e81a4f98389efdf:matrices/x9e81a4f98389efdf:properties-of-matrix-multiplication/a/matrix-multiplication-dimensions#:~:text=A%20matrix%20is%20a%20rectangular,a%20matrix%20element%20or%20entry.&text=The%20dimensions%20of%20a%20matrix,3%202%C3%973%20matrix.',\r\n",
        "                         'Toolkit','http://www.math.odu.edu/~bogacki/cgi-bin/lat.cgi',\r\n",
        "                         'Desmos,graphing calculator,graph','https://www.desmos.com/calculator'\r\n",
        "                         'Inner Product Space','Inner product spaces are normed vector spaces for the norm defined by. As for every normed vector space, an inner product space is a metric space, for the distance defined by. The axioms of the inner product guarantee that the map above forms a norm, which will have the following properties.',\r\n",
        "                         'IPS,Inner product space','https://mathworld.wolfram.com/InnerProduct.html',\r\n",
        "                         'Orthogonal','https://www.ucl.ac.uk/~ucahmdl/LessonPlans/Lesson10.pdf',\r\n",
        "                         'QR Decomposition','https://www.math.ucla.edu/~yanovsky/Teaching/Math151B/handouts/GramSchmidt.pdf',\r\n",
        "                         'Linear Transformation','A linear transformation is a function from one vector space to another that respects the underlying (linear) structure of each vector space. A linear transformation is also known as a linear operator or map.',\r\n",
        "                         'Linear transformation, lt, LT','https://brilliant.org/wiki/linear-transformations/#:~:text=A%20linear%20transformation%20is%20a,a%20linear%20operator%20or%20map.',\r\n",
        "                         'kernel','https://www.math.tamu.edu/~yvorobet/MATH304-2010A/Lect2-08web.pdf',\r\n",
        "                         'geometric linear transformation','http://ltcconline.net/greenl/courses/203/matrixonvectors/generalLinearTransformations.htm',\r\n",
        "                         'changes of basis','https://www.math.purdue.edu/files/academic/courses/2010spring/MA26200/4-7.pdf',\r\n",
        "                         'Sparse Matrix','Matrices that contain mostly zero values are called sparse, distinct from matrices where most of the values are non-zero, called dense\\.Large sparse matrices are common in general and especially in applied machine learning, such as in data that contains counts, data encodings that map categories to counts, and even in whole subfields of machine learning such as natural language processing.',\r\n",
        "                         'Sparse matrix,SM,sm,sparse','https://www.geeksforgeeks.org/sparse-matrix-representation/',\r\n",
        "                         'Storage schemes','https://www.researchgate.net/publication/269410885_An_Efficient_Storage_Format_for_Large_Sparse_Matrices_based_on_Quadtree#:~:text=There%20are%20serious%20problem%20for,suggested%20for%20solving%20this%20problem.&text=The%20suggested%20algorithm%20reduced%20the,values%20to%20more%20than%2085%25.',\r\n",
        "                         'random walk problem','https://core.ac.uk/download/pdf/204486033.pdf',\r\n",
        "                         'Eigen Values','Eigen vector of a matrix A is a vector represented by a matrix X such that when X is multiplied with matrix A, then the direction of the resultant matrix remains same as vector X.',\r\n",
        "                         'Eigen values,ev,EV,Eigen','20vector%20X.&text=where%20A%20is%20any%20arbitrary,corresponding%20to%20each%20eigen%20value.',\r\n",
        "                         'Complex Eigen Values','http://www.math.utk.edu/~freire/complex-eig2005.pdf',\r\n",
        "                         'diagonalizations','https://www.cliffsnotes.com/study-guides/algebra/linear-algebra/eigenvalues-and-eigenvectors/diagonalization#:~:text=If%20v%201%20and%20v,the%20matrix%20V%20is%20invertible.&text=This%20process%20of%20forming%20the,is%20said%20to%20diagonalize%20A.']\r\n",
        "\r\n",
        "graph_theory_doubts = ['Graph Theory','concerned with networks of points connected by lines. The subject of graph theory had its beginnings in recreational math problems, but it has grown into a significant area of mathematical research, with applications in chemistry, operations research, social sciences, and computer science.'\r\n",
        "                       'Books','http://lcwu.edu.pk/ocd/cfiles/Mathematics/Math-524/TextbooksinMathematicsGrossJonathanL._YellenJay-GraphTheoryandItsApplicationsSecondEdition2005CRCPress.pdf'\r\n",
        "                       'Eulerian,Euler ','https://mathworld.wolfram.com/EulerianGraph.html',\r\n",
        "                       'Hamiltonian','https://www.tutorialspoint.com/hamiltonian-graphs',\r\n",
        "                       'Matching,Match','https://www.tutorialspoint.com/graph_theory/graph_theory_matchings.htm',\r\n",
        "                       'hall\\'s theorem','https://brilliant.org/wiki/hall-marriage-theorem/',\r\n",
        "                       'Dominating set','https://www.geeksforgeeks.org/dominant-set-of-a-graph/',\r\n",
        "                       'Random graphs,RG','https://www.math.cmu.edu/~af1p/BOOK.pdf',\r\n",
        "                       'Threshold frequency','https://www.sciencedirect.com/topics/mathematics/threshold-function',\r\n",
        "                       'Ramsey\\'s number','https://www.whitman.edu/documents/Academics/Mathematics/2016/Barton.pdf']\r\n",
        "\r\n",
        "data_structures_doubts = ['Data structures,DS, ds,ADS','A data structure is a particular way of organizing data in a computer so that it can be used effectively. For example, we can store a list of items having the same data-type using the array data structure.',\r\n",
        "                          'Books','https://mitpress.mit.edu/books/introduction-algorithms-third-edition',\r\n",
        "                          'Time complexity','https://www.geeksforgeeks.org/time-complexities-of-all-sorting-algorithms/',\r\n",
        "                          'Linked list','https://www.geeksforgeeks.org/data-structures/linked-list/',\r\n",
        "                          'Stack','https://www.geeksforgeeks.org/stack-data-structure/',\r\n",
        "                          'Queue','https://www.geeksforgeeks.org/queue-data-structure/',\r\n",
        "                          'tree','https://www.tutorialspoint.com/data_structures_algorithms/tree_data_structure.htm']\r\n",
        "\r\n",
        "digital_electronics_doubts = ['Digital Electronics, DE, de,','Digital electronics is a field of electronics involving the study of digital signals and the engineering of devices that use or produce them. This is in contrast to analog electronics and analog signals.',\r\n",
        "                              'Semiconductors','https://byjus.com/jee/semiconductors/',\r\n",
        "                              'Gates','http://www.ee.surrey.ac.uk/Projects/CAL/digital-logic/gatesfunc/index.html',\r\n",
        "                              'Combinational Logic','https://www.geeksforgeeks.org/combinational-and-sequential-circuits/',\r\n",
        "                              'Logics','https://www.statisticshowto.com/probability-and-statistics/hypothesis-testing/anova/#:~:text=An%20ANOVA%20test%20is%20a,there\\'s%20a%20difference%20between%20them.',\r\n",
        "                              'Operational amplifiers','https://www.monolithicpower.com/en/operational-amplifiers#:~:text=An%20operational%20amplifier%20(op%20amp,a%20low%2Dimpedance%20output%20port.',\r\n",
        "                              'convertors','https://wiki.analog.com/university/courses/electronics/text/chapter-20#:~:text=Analog%2Dto%2DDigital%20converters%20(,%2C%20computed%2C%20transmitted%20or%20stored.',\r\n",
        "                              'digital to analog','https://www.britannica.com/technology/digital-to-analog-conversion#:~:text=Digital%2Dto%2Danalog%20conversion%20(,be%20transmitted%20over%20telephone%20lines.']                         \r\n",
        "\r\n",
        "applied_statistics_doubts = ['Applied Statistics, AS, statistics,stats','Applied statistics is the use of statistical techniques to solve real-world data analysis problems. In contrast to the pure study of mathematical statistics, applied statistics is typically used by and for non-mathematicians in fields ranging from social science to business.',\r\n",
        "                             'Stats','https://www.greatlearning.in/academy/learn-for-free/courses/statistics-for-data-science',\r\n",
        "                             'Descriptive Statistics','https://www.investopedia.com/terms/d/descriptive_statistics.asp',\r\n",
        "                             'Inferencial Statistics','https://www.statisticshowto.com/probability-and-statistics/statistics-definitions/inferential-statistics/#:~:text=Descriptive%20statistics%20describes%20data%20(for,make%20generalizations%20about%20a%20population.',\r\n",
        "                             'Correlation','https://www.investopedia.com/terms/c/correlation.asp#:~:text=Correlation%20is%20a%20statistic%20that,such%20as%20the%20S%26P%20500.',\r\n",
        "                             'ANOVA','https://www.statisticshowto.com/probability-and-statistics/hypothesis-testing/anova/#:~:text=An%20ANOVA%20test%20is%20a,there\\'s%20a%20difference%20between%20them.']\r\n"
      ],
      "execution_count": null,
      "outputs": []
    },
    {
      "cell_type": "code",
      "metadata": {
        "colab": {
          "base_uri": "https://localhost:8080/"
        },
        "id": "TmQqstKUp1n5",
        "outputId": "50113ce2-74b4-4125-e110-b44b353c71a1"
      },
      "source": [
        "list_trainer =ListTrainer(my_bot)\r\n",
        "\r\n",
        "for item in (intro_talk, linear_algebra_doubts, graph_theory_doubts, data_structures_doubts, digital_electronics_doubts, applied_statistics_doubts, math_talk_1, math_talk_2):\r\n",
        "    list_trainer.train(item)"
      ],
      "execution_count": null,
      "outputs": [
        {
          "output_type": "stream",
          "text": [
            "List Trainer: [####################] 100%\n",
            "List Trainer: [####################] 100%\n",
            "List Trainer: [####################] 100%\n",
            "List Trainer: [####################] 100%\n",
            "List Trainer: [####################] 100%\n",
            "List Trainer: [####################] 100%\n",
            "List Trainer: [####################] 100%\n",
            "List Trainer: [####################] 100%\n"
          ],
          "name": "stdout"
        }
      ]
    },
    {
      "cell_type": "code",
      "metadata": {
        "colab": {
          "base_uri": "https://localhost:8080/"
        },
        "id": "HWhLSh04qPKR",
        "outputId": "3fe549e1-2d84-45be-a804-c48988436ff1"
      },
      "source": [
        "print(my_bot.get_response(\"hi\"))"
      ],
      "execution_count": null,
      "outputs": [
        {
          "output_type": "stream",
          "text": [
            "How do you do?\n"
          ],
          "name": "stdout"
        }
      ]
    },
    {
      "cell_type": "code",
      "metadata": {
        "colab": {
          "base_uri": "https://localhost:8080/"
        },
        "id": "vbEE1qs9qY0u",
        "outputId": "f6a06416-6d6b-4768-e765-62213c05658d"
      },
      "source": [
        "print(my_bot.get_response(\"Pythogo\"))"
      ],
      "execution_count": null,
      "outputs": [
        {
          "output_type": "stream",
          "text": [
            "https://www.khanacademy.org/math/precalculus/x9e81a4f98389efdf:matrices/x9e81a4f98389efdf:properties-of-matrix-multiplication/a/matrix-multiplication-dimensions#:~:text=A%20matrix%20is%20a%20rectangular,a%20matrix%20element%20or%20entry.&text=The%20dimensions%20of%20a%20matrix,3%202%C3%973%20matrix.\n"
          ],
          "name": "stdout"
        }
      ]
    },
    {
      "cell_type": "code",
      "metadata": {
        "colab": {
          "base_uri": "https://localhost:8080/"
        },
        "id": "ag7hbSfGqjIR",
        "outputId": "7a07906e-8917-4f1e-9539-5bd58df069c5"
      },
      "source": [
        "print(my_bot.get_response(\"Your name?\"))"
      ],
      "execution_count": null,
      "outputs": [
        {
          "output_type": "stream",
          "text": [
            "I'm FirstBot. Ask me a question...\n"
          ],
          "name": "stdout"
        }
      ]
    },
    {
      "cell_type": "code",
      "metadata": {
        "colab": {
          "base_uri": "https://localhost:8080/"
        },
        "id": "Bd59SkYRq-Im",
        "outputId": "0a716918-50b6-44bc-a951-0c934cf54fe3"
      },
      "source": [
        "print(my_bot.get_response(\"Linear Algebra\"))"
      ],
      "execution_count": null,
      "outputs": [
        {
          "output_type": "stream",
          "text": [
            "https://www.desmos.com/calculator\n"
          ],
          "name": "stdout"
        }
      ]
    },
    {
      "cell_type": "code",
      "metadata": {
        "colab": {
          "base_uri": "https://localhost:8080/"
        },
        "id": "0Kxy9oWbgEio",
        "outputId": "e0fc24bf-581c-4d32-a76f-43d80f41d536"
      },
      "source": [
        "print(my_bot.get_response(\"Eigen\"))"
      ],
      "execution_count": null,
      "outputs": [
        {
          "output_type": "stream",
          "text": [
            "20vector%20X.&text=where%20A%20is%20any%20arbitrary,corresponding%20to%20each%20eigen%20value.\n"
          ],
          "name": "stdout"
        }
      ]
    },
    {
      "cell_type": "code",
      "metadata": {
        "id": "6-9MXGjWgKv4",
        "colab": {
          "base_uri": "https://localhost:8080/"
        },
        "outputId": "c1a7a1be-6228-4866-91b0-180c13456acc"
      },
      "source": [
        "print(my_bot.get_response(\"Graphing\"))"
      ],
      "execution_count": null,
      "outputs": [
        {
          "output_type": "stream",
          "text": [
            "https://www.desmos.com/calculatorInner Product Space\n"
          ],
          "name": "stdout"
        }
      ]
    },
    {
      "cell_type": "code",
      "metadata": {
        "id": "kg8zdJWO5Rl6",
        "colab": {
          "base_uri": "https://localhost:8080/"
        },
        "outputId": "77172145-60c1-4f42-ee5d-509d9170460d"
      },
      "source": [
        "print(my_bot.get_response(\"Anova\"))"
      ],
      "execution_count": null,
      "outputs": [
        {
          "output_type": "stream",
          "text": [
            "https://www.statisticshowto.com/probability-and-statistics/hypothesis-testing/anova/#:~:text=An%20ANOVA%20test%20is%20a,there's%20a%20difference%20between%20them.\n"
          ],
          "name": "stdout"
        }
      ]
    }
  ]
}